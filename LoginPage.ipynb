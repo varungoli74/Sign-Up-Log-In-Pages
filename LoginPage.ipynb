{
 "cells": [
  {
   "cell_type": "code",
   "execution_count": 1,
   "id": "d3d9a183-53ba-4daa-b167-947e7dae7cb1",
   "metadata": {},
   "outputs": [
    {
     "ename": "TclError",
     "evalue": "can't invoke \"wm\" command: application has been destroyed",
     "output_type": "error",
     "traceback": [
      "\u001b[0;31m---------------------------------------------------------------------------\u001b[0m",
      "\u001b[0;31mTclError\u001b[0m                                  Traceback (most recent call last)",
      "Cell \u001b[0;32mIn[1], line 22\u001b[0m\n\u001b[1;32m     18\u001b[0m Button(text\u001b[38;5;241m=\u001b[39m\u001b[38;5;124m\"\u001b[39m\u001b[38;5;124mRegister\u001b[39m\u001b[38;5;124m\"\u001b[39m, height\u001b[38;5;241m=\u001b[39m\u001b[38;5;124m\"\u001b[39m\u001b[38;5;124m2\u001b[39m\u001b[38;5;124m\"\u001b[39m, width\u001b[38;5;241m=\u001b[39m\u001b[38;5;124m\"\u001b[39m\u001b[38;5;124m30\u001b[39m\u001b[38;5;124m\"\u001b[39m)\u001b[38;5;241m.\u001b[39mpack()\n\u001b[1;32m     20\u001b[0m main_screen\u001b[38;5;241m.\u001b[39mmainloop()  \n\u001b[0;32m---> 22\u001b[0m \u001b[43mmain_account_screen\u001b[49m\u001b[43m(\u001b[49m\u001b[43m)\u001b[49m\n",
      "Cell \u001b[0;32mIn[1], line 8\u001b[0m, in \u001b[0;36mmain_account_screen\u001b[0;34m()\u001b[0m\n\u001b[1;32m      6\u001b[0m \u001b[38;5;28;01mdef\u001b[39;00m \u001b[38;5;21mmain_account_screen\u001b[39m():\n\u001b[1;32m      7\u001b[0m     \u001b[38;5;28;01mglobal\u001b[39;00m main_screen\n\u001b[0;32m----> 8\u001b[0m     \u001b[43mmain_screen\u001b[49m\u001b[38;5;241;43m.\u001b[39;49m\u001b[43mgeometry\u001b[49m\u001b[43m(\u001b[49m\u001b[38;5;124;43m\"\u001b[39;49m\u001b[38;5;124;43m1920x1080\u001b[39;49m\u001b[38;5;124;43m\"\u001b[39;49m\u001b[43m)\u001b[49m  \n\u001b[1;32m      9\u001b[0m     main_screen\u001b[38;5;241m.\u001b[39mtitle(\u001b[38;5;124m\"\u001b[39m\u001b[38;5;124mAccount Login\u001b[39m\u001b[38;5;124m\"\u001b[39m)\n",
      "File \u001b[0;32m~/anaconda3/lib/python3.10/tkinter/__init__.py:2073\u001b[0m, in \u001b[0;36mWm.wm_geometry\u001b[0;34m(self, newGeometry)\u001b[0m\n\u001b[1;32m   2070\u001b[0m \u001b[38;5;28;01mdef\u001b[39;00m \u001b[38;5;21mwm_geometry\u001b[39m(\u001b[38;5;28mself\u001b[39m, newGeometry\u001b[38;5;241m=\u001b[39m\u001b[38;5;28;01mNone\u001b[39;00m):\n\u001b[1;32m   2071\u001b[0m     \u001b[38;5;124;03m\"\"\"Set geometry to NEWGEOMETRY of the form =widthxheight+x+y. Return\u001b[39;00m\n\u001b[1;32m   2072\u001b[0m \u001b[38;5;124;03m    current value if None is given.\"\"\"\u001b[39;00m\n\u001b[0;32m-> 2073\u001b[0m     \u001b[38;5;28;01mreturn\u001b[39;00m \u001b[38;5;28;43mself\u001b[39;49m\u001b[38;5;241;43m.\u001b[39;49m\u001b[43mtk\u001b[49m\u001b[38;5;241;43m.\u001b[39;49m\u001b[43mcall\u001b[49m\u001b[43m(\u001b[49m\u001b[38;5;124;43m'\u001b[39;49m\u001b[38;5;124;43mwm\u001b[39;49m\u001b[38;5;124;43m'\u001b[39;49m\u001b[43m,\u001b[49m\u001b[43m \u001b[49m\u001b[38;5;124;43m'\u001b[39;49m\u001b[38;5;124;43mgeometry\u001b[39;49m\u001b[38;5;124;43m'\u001b[39;49m\u001b[43m,\u001b[49m\u001b[43m \u001b[49m\u001b[38;5;28;43mself\u001b[39;49m\u001b[38;5;241;43m.\u001b[39;49m\u001b[43m_w\u001b[49m\u001b[43m,\u001b[49m\u001b[43m \u001b[49m\u001b[43mnewGeometry\u001b[49m\u001b[43m)\u001b[49m\n",
      "\u001b[0;31mTclError\u001b[0m: can't invoke \"wm\" command: application has been destroyed"
     ]
    }
   ],
   "source": [
    "from tkinter import *\n",
    "\n",
    "main_screen = Tk()  \n",
    "\n",
    "\n",
    "def main_account_screen():\n",
    "    global main_screen\n",
    "    main_screen.geometry(\"1920x1080\")  \n",
    "    main_screen.title(\"Account Login\")  \n",
    "\n",
    "\n",
    "Label(text=\"Choose Login Or Register\", bg=\"blue\", width=\"300\", height=\"2\", font=(\"Calibri\", 13)).pack()\n",
    "Label(text=\"\").pack()\n",
    "\n",
    "Button(text=\"Login\", height=\"2\", width=\"30\").pack()\n",
    "Label(text=\"\").pack()\n",
    "\n",
    "Button(text=\"Register\", height=\"2\", width=\"30\").pack()\n",
    "\n",
    "main_screen.mainloop()  \n",
    "\n",
    "main_account_screen() "
   ]
  }
 ],
 "metadata": {
  "kernelspec": {
   "display_name": "Python 3 (ipykernel)",
   "language": "python",
   "name": "python3"
  },
  "language_info": {
   "codemirror_mode": {
    "name": "ipython",
    "version": 3
   },
   "file_extension": ".py",
   "mimetype": "text/x-python",
   "name": "python",
   "nbconvert_exporter": "python",
   "pygments_lexer": "ipython3",
   "version": "3.10.9"
  }
 },
 "nbformat": 4,
 "nbformat_minor": 5
}
